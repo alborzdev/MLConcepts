{
 "cells": [
  {
   "cell_type": "markdown",
   "metadata": {},
   "source": [
    "# Support Vector Machine or SVM:\n",
    "\n",
    " - __Classification Technique:__\n",
    "\n",
    "\n",
    "  - Its a model that best splits the data at hand\n",
    "\n",
    "   - Used to find the widest margin that splits the data\n",
    "\n",
    "   - Making sure the distance between the __support vectors__ and the __hyperplane__ are as far as possible\n",
    "   - Doing so _maximizes_ the margin\n",
    "\n",
    "\n",
    " - This is a __constrained optimization problem__\n",
    "  - __Optimization__ beacuse we are trying to maximize the margain\n",
    "  - __Constrained__ because the constraint is that our support vectors cannot be on the hyperplane\n",
    "  - We can do this by using __Lagrange Multipliers__\n",
    "  \n",
    "  \n",
    "# StatQuest Information (SVM)\n",
    "\n",
    "<img src=\"maxmargin.png\" style=\"width:700px;height:100px\"/>\n",
    "\n",
    "Here is a __Maximal Margin Classifiers__, they are _super sensitives to outliers_ in the training data, so this makes them pretty bad.\n",
    "\n",
    "\n",
    "To fix this problem, we must allow misclassifications. \n",
    "\n",
    "<img src=\"lowvariance.png\" style=\"width:700px;height:100px\"/>\n",
    "\n",
    "Doing so will result in a higher bias, but a much lower variance as it responds much better to new data.\n",
    "  \n",
    "When we allow these misclassifications, the margin is called a __soft margin__\n",
    "\n",
    "In order to find the best __soft margin__, we use cross validation to determine how many misclassifications and observations to allow inside of the Soft Margin to get the best classification.\n",
    "\n",
    "When we use a Soft Margin to determing the location of a threshold, then we are using a Soft Margin Classifier AKA a Support Vector Classifier to classify observations\n",
    "\n",
    "<img src=\"pic6.png\" style=\"width:700px;height:300px\"/>\n",
    "\n",
    "For 2 features like weight and height, the SVC is a line, for 3 features like weight, height and age, the SVC is a plane. \n",
    "\n",
    "Now there are some situations that you would __not__ want to use a Support Vector Classifier:\n",
    "\n",
    "<img src=\"pic7.png\" style=\"width:700px;height:50px\"/>\n",
    "\n",
    "The red dots are not-cured patients and the green dots are cured patients.\n",
    "\n",
    "Here, the drug dosage only works when its _just right_, not too much, not too little.\n",
    "Using an SVC here would draw our threshold right down the middle, resulting in many misclassifications, which would be bad.\n",
    "\n",
    "Can we do better than SVC? YES! This would be __Support Vector Machines__. \n",
    "\n",
    "What we do is create another graph with an x & y axis. The y-axis would represent the square of each \"dosage\" value on the one-dimensional number line. Doing this gives us the same data but in two-dimensions, allowing us to use a Support Vector Classifier line. \n",
    "\n",
    "<img src=\"BAM.png\" style=\"width:500px;height:250px\"/>\n",
    "\n",
    "\n",
    "Now why not cube the data points? SVM's use something called __Kernel Function__.\n",
    "\n",
    "You can use a polynomial Kernal, which has a parameter, d, which stands for the degree of the polynomial.\n",
    "When d = 1, the Kernel computes the relationships between each pair of observations in 1-Dimension.\n",
    "\n",
    "We can use __Cross Validation__ to find a good value for d.\n",
    "\n",
    "Another commonly used Kernel is the Radial Kernel. It finds SVM's in infinite dimension.\n",
    "\n",
    "When used in a 1-dimensional setting though, it acts like a __weighted nearest neighbor__ model. \n",
    "\n",
    "<img src=\"pic8.png\" style=\"width:700px;height:100px\"/>\n",
    "\n",
    "In that image, the closest observations (nearest neighbours) around the new (black) observation have a lot of influence on how we will classify the new observation. The further observations have little influence on the classification. The __radial kernal__ will classify that new observation as red.\n",
    "\n",
    "\n",
    "\n"
   ]
  },
  {
   "cell_type": "markdown",
   "metadata": {},
   "source": [
    "\n",
    " - A real world example:\n",
    "  - How might one differentiate from a __cupcake__ and a __muffin__?\n",
    "  - Does a cupcake exclusivly have frosting on it compared to a muffin where they usually have raisins or blueberries inside?\n",
    "  - Our challenge is to __classify__ based on __recipes__ weather something is a cupcake or a muffin\n",
    "  - We feed the classifier a recipe, and we get back weather its a cupcake or a muffin recipe.\n",
    "  \n",
    "\n",
    " - __Steps to doing this:__\n",
    "  - 1. Find the data\n",
    "  - 2. Apply a machine learning model, which will be SVM\n",
    "  - 3. Review the results\n",
    " "
   ]
  },
  {
   "cell_type": "code",
   "execution_count": 33,
   "metadata": {},
   "outputs": [],
   "source": [
    "#Code directly referenced from Alice Zhao's video, the video link is: https://www.youtube.com/watch?v=N1vOgolbjSc\n",
    "\n",
    "#Allows charts and graphs to appear in jupyter notebook\n",
    "%matplotlib inline \n",
    "\n",
    "#Libraries for analysis\n",
    "import pandas as pd\n",
    "import numpy as np\n",
    "from sklearn import svm\n",
    "from sklearn.model_selection import train_test_split\n",
    "\n",
    "#Libraries for visuals\n",
    "import matplotlib.pyplot as plt\n",
    "import seaborn as sns; sns.set(font_scale=1.2)"
   ]
  },
  {
   "cell_type": "markdown",
   "metadata": {},
   "source": [
    "__Step 2:__ Import the data"
   ]
  },
  {
   "cell_type": "code",
   "execution_count": 34,
   "metadata": {},
   "outputs": [
    {
     "data": {
      "text/html": [
       "<div>\n",
       "<style scoped>\n",
       "    .dataframe tbody tr th:only-of-type {\n",
       "        vertical-align: middle;\n",
       "    }\n",
       "\n",
       "    .dataframe tbody tr th {\n",
       "        vertical-align: top;\n",
       "    }\n",
       "\n",
       "    .dataframe thead th {\n",
       "        text-align: right;\n",
       "    }\n",
       "</style>\n",
       "<table border=\"1\" class=\"dataframe\">\n",
       "  <thead>\n",
       "    <tr style=\"text-align: right;\">\n",
       "      <th></th>\n",
       "      <th>Type</th>\n",
       "      <th>Flour</th>\n",
       "      <th>Milk</th>\n",
       "      <th>Sugar</th>\n",
       "      <th>Butter</th>\n",
       "      <th>Egg</th>\n",
       "      <th>Baking Powder</th>\n",
       "      <th>Vanilla</th>\n",
       "      <th>Salt</th>\n",
       "    </tr>\n",
       "  </thead>\n",
       "  <tbody>\n",
       "    <tr>\n",
       "      <th>0</th>\n",
       "      <td>Muffin</td>\n",
       "      <td>55</td>\n",
       "      <td>28</td>\n",
       "      <td>3</td>\n",
       "      <td>7</td>\n",
       "      <td>5</td>\n",
       "      <td>2</td>\n",
       "      <td>0</td>\n",
       "      <td>0</td>\n",
       "    </tr>\n",
       "    <tr>\n",
       "      <th>1</th>\n",
       "      <td>Muffin</td>\n",
       "      <td>47</td>\n",
       "      <td>24</td>\n",
       "      <td>12</td>\n",
       "      <td>6</td>\n",
       "      <td>9</td>\n",
       "      <td>1</td>\n",
       "      <td>0</td>\n",
       "      <td>0</td>\n",
       "    </tr>\n",
       "    <tr>\n",
       "      <th>2</th>\n",
       "      <td>Muffin</td>\n",
       "      <td>47</td>\n",
       "      <td>23</td>\n",
       "      <td>18</td>\n",
       "      <td>6</td>\n",
       "      <td>4</td>\n",
       "      <td>1</td>\n",
       "      <td>0</td>\n",
       "      <td>0</td>\n",
       "    </tr>\n",
       "    <tr>\n",
       "      <th>3</th>\n",
       "      <td>Muffin</td>\n",
       "      <td>45</td>\n",
       "      <td>11</td>\n",
       "      <td>17</td>\n",
       "      <td>17</td>\n",
       "      <td>8</td>\n",
       "      <td>1</td>\n",
       "      <td>0</td>\n",
       "      <td>0</td>\n",
       "    </tr>\n",
       "    <tr>\n",
       "      <th>4</th>\n",
       "      <td>Muffin</td>\n",
       "      <td>50</td>\n",
       "      <td>25</td>\n",
       "      <td>12</td>\n",
       "      <td>6</td>\n",
       "      <td>5</td>\n",
       "      <td>2</td>\n",
       "      <td>1</td>\n",
       "      <td>0</td>\n",
       "    </tr>\n",
       "  </tbody>\n",
       "</table>\n",
       "</div>"
      ],
      "text/plain": [
       "     Type  Flour  Milk  Sugar  Butter  Egg  Baking Powder  Vanilla  Salt\n",
       "0  Muffin     55    28      3       7    5              2        0     0\n",
       "1  Muffin     47    24     12       6    9              1        0     0\n",
       "2  Muffin     47    23     18       6    4              1        0     0\n",
       "3  Muffin     45    11     17      17    8              1        0     0\n",
       "4  Muffin     50    25     12       6    5              2        1     0"
      ]
     },
     "execution_count": 34,
     "metadata": {},
     "output_type": "execute_result"
    }
   ],
   "source": [
    "#All data values are percentages\n",
    "recipes = pd.read_csv(\"recipes_muffins_cupcakes.csv\")\n",
    "recipes.head()"
   ]
  },
  {
   "cell_type": "markdown",
   "metadata": {},
   "source": [
    " __Step 3:__ Prepare the data"
   ]
  },
  {
   "cell_type": "code",
   "execution_count": 35,
   "metadata": {},
   "outputs": [
    {
     "data": {
      "text/plain": [
       "<seaborn.axisgrid.FacetGrid at 0x1a199913d0>"
      ]
     },
     "execution_count": 35,
     "metadata": {},
     "output_type": "execute_result"
    },
    {
     "data": {
      "image/png": "[encoded data removed]",
      "text/plain": [
       "<Figure size 459.77x360 with 1 Axes>"
      ]
     },
     "metadata": {},
     "output_type": "display_data"
    }
   ],
   "source": [
    "#Plotting two important ingrediants\n",
    "sns.lmplot('Sugar', 'Butter', data=recipes, hue='Type',\n",
    "          palette='Set1', fit_reg=False, scatter_kws={\"s\": 70})"
   ]
  },
  {
   "cell_type": "code",
   "execution_count": 36,
   "metadata": {},
   "outputs": [
    {
     "ename": "AttributeError",
     "evalue": "'DataFrame' object has no attribute 'as_matrix'",
     "output_type": "error",
     "traceback": [
      "\u001b[0;31m---------------------------------------------------------------------------\u001b[0m",
      "\u001b[0;31mAttributeError\u001b[0m                            Traceback (most recent call last)",
      "\u001b[0;32m<ipython-input-36-2d26159ff3cf>\u001b[0m in \u001b[0;36m<module>\u001b[0;34m\u001b[0m\n\u001b[0;32m----> 1\u001b[0;31m \u001b[0msugar_butter\u001b[0m \u001b[0;34m=\u001b[0m \u001b[0mrecipes\u001b[0m\u001b[0;34m[\u001b[0m\u001b[0;34m[\u001b[0m\u001b[0;34m'Sugar'\u001b[0m\u001b[0;34m,\u001b[0m\u001b[0;34m'Butter'\u001b[0m\u001b[0;34m]\u001b[0m\u001b[0;34m]\u001b[0m\u001b[0;34m.\u001b[0m\u001b[0mas_matrix\u001b[0m\u001b[0;34m(\u001b[0m\u001b[0;34m)\u001b[0m\u001b[0;34m\u001b[0m\u001b[0;34m\u001b[0m\u001b[0m\n\u001b[0m\u001b[1;32m      2\u001b[0m \u001b[0mtype_label\u001b[0m \u001b[0;34m=\u001b[0m \u001b[0mnp\u001b[0m\u001b[0;34m.\u001b[0m\u001b[0mwhere\u001b[0m\u001b[0;34m(\u001b[0m\u001b[0mrecipes\u001b[0m\u001b[0;34m[\u001b[0m\u001b[0;34m'Type'\u001b[0m\u001b[0;34m]\u001b[0m\u001b[0;34m==\u001b[0m\u001b[0;34m'Muffin'\u001b[0m\u001b[0;34m,\u001b[0m \u001b[0;36m0\u001b[0m\u001b[0;34m,\u001b[0m \u001b[0;36m1\u001b[0m\u001b[0;34m)\u001b[0m\u001b[0;34m\u001b[0m\u001b[0;34m\u001b[0m\u001b[0m\n",
      "\u001b[0;32m~/anaconda3/lib/python3.7/site-packages/pandas/core/generic.py\u001b[0m in \u001b[0;36m__getattr__\u001b[0;34m(self, name)\u001b[0m\n\u001b[1;32m   5271\u001b[0m             \u001b[0;32mif\u001b[0m \u001b[0mself\u001b[0m\u001b[0;34m.\u001b[0m\u001b[0m_info_axis\u001b[0m\u001b[0;34m.\u001b[0m\u001b[0m_can_hold_identifiers_and_holds_name\u001b[0m\u001b[0;34m(\u001b[0m\u001b[0mname\u001b[0m\u001b[0;34m)\u001b[0m\u001b[0;34m:\u001b[0m\u001b[0;34m\u001b[0m\u001b[0;34m\u001b[0m\u001b[0m\n\u001b[1;32m   5272\u001b[0m                 \u001b[0;32mreturn\u001b[0m \u001b[0mself\u001b[0m\u001b[0;34m[\u001b[0m\u001b[0mname\u001b[0m\u001b[0;34m]\u001b[0m\u001b[0;34m\u001b[0m\u001b[0;34m\u001b[0m\u001b[0m\n\u001b[0;32m-> 5273\u001b[0;31m             \u001b[0;32mreturn\u001b[0m \u001b[0mobject\u001b[0m\u001b[0;34m.\u001b[0m\u001b[0m__getattribute__\u001b[0m\u001b[0;34m(\u001b[0m\u001b[0mself\u001b[0m\u001b[0;34m,\u001b[0m \u001b[0mname\u001b[0m\u001b[0;34m)\u001b[0m\u001b[0;34m\u001b[0m\u001b[0;34m\u001b[0m\u001b[0m\n\u001b[0m\u001b[1;32m   5274\u001b[0m \u001b[0;34m\u001b[0m\u001b[0m\n\u001b[1;32m   5275\u001b[0m     \u001b[0;32mdef\u001b[0m \u001b[0m__setattr__\u001b[0m\u001b[0;34m(\u001b[0m\u001b[0mself\u001b[0m\u001b[0;34m,\u001b[0m \u001b[0mname\u001b[0m\u001b[0;34m:\u001b[0m \u001b[0mstr\u001b[0m\u001b[0;34m,\u001b[0m \u001b[0mvalue\u001b[0m\u001b[0;34m)\u001b[0m \u001b[0;34m->\u001b[0m \u001b[0;32mNone\u001b[0m\u001b[0;34m:\u001b[0m\u001b[0;34m\u001b[0m\u001b[0;34m\u001b[0m\u001b[0m\n",
      "\u001b[0;31mAttributeError\u001b[0m: 'DataFrame' object has no attribute 'as_matrix'"
     ]
    }
   ],
   "source": [
    "sugar_butter = recipes[['Sugar','Butter']].as_matrix()\n",
    "type_label = np.where(recipes['Type']=='Muffin', 0, 1)"
   ]
  },
  {
   "cell_type": "code",
   "execution_count": null,
   "metadata": {},
   "outputs": [],
   "source": []
  }
 ],
 "metadata": {
  "kernelspec": {
   "display_name": "Python 3",
   "language": "python",
   "name": "python3"
  },
  "language_info": {
   "codemirror_mode": {
    "name": "ipython",
    "version": 3
   },
   "file_extension": ".py",
   "mimetype": "text/x-python",
   "name": "python",
   "nbconvert_exporter": "python",
   "pygments_lexer": "ipython3",
   "version": "3.7.6"
  }
 },
 "nbformat": 4,
 "nbformat_minor": 4
}
