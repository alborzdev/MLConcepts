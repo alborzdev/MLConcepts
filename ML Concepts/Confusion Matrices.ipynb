{
 "cells": [
  {
   "cell_type": "markdown",
   "metadata": {},
   "source": [
    "# Confusion Matrix\n",
    "\n",
    "You have medical data, with many fatures.\n",
    "\n",
    "You want predict is someone has heart disease.\n",
    "\n",
    "We want to figure which machine learning method is the best, K-nearest neighbours? Logistic Regression? Random Forest?\n",
    "\n",
    "Start by dividing data into __training and testing__ sets. Use cross validation.\n",
    "\n",
    "Train each method and test each method.\n",
    "\n",
    "<img src=\"pic13.png\" style=\"width:400px;height:200px\"/>\n",
    "\n",
    "\n",
    "The whole point of a confusion matrix is to give a representation of how well your machine learning method ran.\n",
    "\n",
    "\n",
    "# Sensitivity and Specificity\n",
    "\n",
    "Sensitivity tells us what percentage of patients _with_ heart disease were correctly identified.\n",
    "\n",
    "Sensitivity = True +vs / (True +vs + false -vs)\n",
    "\n",
    "Specificity tells us what percentage of patients _without_ heart disease were correctly identified.\n",
    "\n",
    "Specificity = True -vs / (True -vs + false +vs)\n",
    "\n"
   ]
  },
  {
   "cell_type": "code",
   "execution_count": null,
   "metadata": {},
   "outputs": [],
   "source": []
  }
 ],
 "metadata": {
  "kernelspec": {
   "display_name": "Python 3",
   "language": "python",
   "name": "python3"
  },
  "language_info": {
   "codemirror_mode": {
    "name": "ipython",
    "version": 3
   },
   "file_extension": ".py",
   "mimetype": "text/x-python",
   "name": "python",
   "nbconvert_exporter": "python",
   "pygments_lexer": "ipython3",
   "version": "3.7.6"
  }
 },
 "nbformat": 4,
 "nbformat_minor": 4
}
