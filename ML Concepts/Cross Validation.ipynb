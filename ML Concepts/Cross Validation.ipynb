{
 "cells": [
  {
   "cell_type": "markdown",
   "metadata": {},
   "source": [
    "# Cross Validation\n",
    "\n",
    "<img src=\"pic4.png\" style=\"width:600px;height:250px\"/>\n",
    "\n",
    "Here is a matrix that contains features that will help us predict if someone has heart disease or not.\n",
    "\n",
    "In terms of Machine Learning models, we might use:\n",
    "1. Logistic Regression\n",
    "2. K-nearest neighbors\n",
    "3. Support vector machines (SVM)\n",
    "\n",
    "Inlcuding many more...\n",
    "\n",
    "Essentially, we use __cross validation__ to compare different machine learning methods and get a sense of how well they will work in practice.\n",
    "\n",
    "\n",
    "Given some data about people with or without heart disease, we must do 2 things with this data:\n",
    "\n",
    "1. Estimate the parameters for the machine learning methods\n",
    " - In other words means in order to use Logistic Regression, we must use some of the data to estimate the shape of the curve that fits the data\n",
    " - This is called __training the algorithm__\n",
    " \n",
    " \n",
    "2. Evaluate how well the machine learning methods work\n",
    " - Meaning we must find out how well our machine learning method curves the data\n",
    " - This is called __testing the algorithm__\n",
    "\n",
    "We use the first 75% the data for training and the last 25% of the data for testing.\n",
    "\n",
    "But how do we know doing this yields the best results, why not the middle 25% for testing and the rest for training?\n",
    "\n",
    "Rather than worrying about which block to use, __cross validation__ uses them all, one at a time, and summarizes the results at the end.\n",
    "\n",
    "In one case, we divide our data into __four blocks__, which is called __Four-Fold Cross Validation__.\n",
    "\n",
    "For each method, we use each block of data for testing and the rest for training, yeilding four rounds, keeping track of all the correct and incorrect predictions.\n",
    "\n",
    "At the end, we will see which method had the most correct predictions and select it for our data.\n",
    "\n",
    "But the amount of blocks we choose is __arbitrary__.\n",
    "\n",
    "In an extreme case, we might divide every sample in the dataset into its own block, this is called __\"Leave One Out Cross Validation\"__  \n",
    "\n",
    "In practice though, it is very common to divide the data into 10 blocks, this is called __Ten Fold Cross Validation__\n"
   ]
  },
  {
   "cell_type": "code",
   "execution_count": null,
   "metadata": {},
   "outputs": [],
   "source": []
  }
 ],
 "metadata": {
  "kernelspec": {
   "display_name": "Python 3",
   "language": "python",
   "name": "python3"
  },
  "language_info": {
   "codemirror_mode": {
    "name": "ipython",
    "version": 3
   },
   "file_extension": ".py",
   "mimetype": "text/x-python",
   "name": "python",
   "nbconvert_exporter": "python",
   "pygments_lexer": "ipython3",
   "version": "3.7.6"
  }
 },
 "nbformat": 4,
 "nbformat_minor": 4
}
