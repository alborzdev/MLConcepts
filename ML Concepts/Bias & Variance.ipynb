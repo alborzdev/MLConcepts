{
 "cells": [
  {
   "cell_type": "markdown",
   "metadata": {},
   "source": [
    "# Bias & Variance\n",
    "\n",
    "- What is __Bias?__\n",
    " - Bias is when you are fitting a line to a trend and the machine learning method cannot capture the true relationship.\n",
    " \n",
    "<img src=\"Bias Chart.png\" style=\"width:400px;height:250px\"/>\n",
    "\n",
    " - Because this stright line cannot be curved like the \"true\" relationship, there is alot of bias.\n",
    " - In the following image, we can also fit a squigly line fit to the data\n",
    "\n",
    "\n",
    "<img src=\"pic2.png\" style=\"width:400px;height:250px\"/>\n",
    "\n",
    "- As you can see it fits the __training set__ very well compared to the straight line, and has __low bias__\n",
    "- We can do calculate this mathematically by squaring the distince from each point to the line and summing them\n",
    "\n",
    "\n",
    "- Although the squigly fit works for the __training set__ of data, lets see how well it works for the __testing set__\n",
    "\n",
    "<img src=\"pic3.png\" style=\"width:400px;height:250px\"/>\n",
    "\n",
    "\n",
    "- In this case, the straight line fits better to the testing set than the squigly fit\n",
    "- Therefore the squigly fit has much more __variance__ compared to the straight line fit\n",
    " - Its hard to predict how well the __Squiggly Line__ will perform with future data sets\n",
    " - When a fit works well with the training set but not testing set, we call the fit __overfit__ \n",
    "- The __straight line__ has low __variance__, because the Sums of Squares are very __similar__ for different data sets\n",
    "\n",
    "\n",
    "- As a result, the __straight line__ will likely give \"good\" predictions but not great, but they will be consistent\n",
    "- On the other hand the __squigly line__ will either give great or bad predictions, very inconsistent\n",
    "\n",
    "\n",
    "- Our goal is to find the sweet spot between a simple model (linear regression), and a complex model (squigly line fit)\n",
    " - Methods to find these sweet spots are called __regularization, boosting__ and __baggin__."
   ]
  }
 ],
 "metadata": {
  "kernelspec": {
   "display_name": "Python 3",
   "language": "python",
   "name": "python3"
  },
  "language_info": {
   "codemirror_mode": {
    "name": "ipython",
    "version": 3
   },
   "file_extension": ".py",
   "mimetype": "text/x-python",
   "name": "python",
   "nbconvert_exporter": "python",
   "pygments_lexer": "ipython3",
   "version": "3.7.6"
  }
 },
 "nbformat": 4,
 "nbformat_minor": 4
}
